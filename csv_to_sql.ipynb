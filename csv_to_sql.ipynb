{
 "cells": [
  {
   "cell_type": "code",
   "execution_count": 1,
   "id": "897ceb06-6c28-4bf6-9d3d-e8d997edc652",
   "metadata": {},
   "outputs": [
    {
     "name": "stdout",
     "output_type": "stream",
     "text": [
      "Requirement already satisfied: mysql-connector-python in c:\\users\\blah9\\anaconda3\\lib\\site-packages (9.2.0)\n",
      "Requirement already satisfied: numpy in c:\\users\\blah9\\anaconda3\\lib\\site-packages (1.26.4)\n",
      "Requirement already satisfied: pandas in c:\\users\\blah9\\anaconda3\\lib\\site-packages (2.1.4)\n",
      "Requirement already satisfied: python-dateutil>=2.8.2 in c:\\users\\blah9\\appdata\\roaming\\python\\python311\\site-packages (from pandas) (2.9.0.post0)\n",
      "Requirement already satisfied: pytz>=2020.1 in c:\\users\\blah9\\anaconda3\\lib\\site-packages (from pandas) (2025.1)\n",
      "Requirement already satisfied: tzdata>=2022.1 in c:\\users\\blah9\\anaconda3\\lib\\site-packages (from pandas) (2023.3)\n",
      "Requirement already satisfied: six>=1.5 in c:\\users\\blah9\\appdata\\roaming\\python\\python311\\site-packages (from python-dateutil>=2.8.2->pandas) (1.16.0)\n",
      "Note: you may need to restart the kernel to use updated packages.\n"
     ]
    }
   ],
   "source": [
    "pip install mysql-connector-python numpy pandas "
   ]
  },
  {
   "cell_type": "code",
   "execution_count": 1,
   "id": "a5d1fa01-afdc-4817-8bd8-00f7399c13c1",
   "metadata": {},
   "outputs": [
    {
     "name": "stdout",
     "output_type": "stream",
     "text": [
      "Collecting pymysql\n",
      "  Downloading PyMySQL-1.1.1-py3-none-any.whl.metadata (4.4 kB)\n",
      "Requirement already satisfied: sqlalchemy in c:\\users\\blah9\\anaconda3\\lib\\site-packages (2.0.25)\n",
      "Requirement already satisfied: typing-extensions>=4.6.0 in c:\\users\\blah9\\anaconda3\\lib\\site-packages (from sqlalchemy) (4.12.2)\n",
      "Requirement already satisfied: greenlet!=0.4.17 in c:\\users\\blah9\\anaconda3\\lib\\site-packages (from sqlalchemy) (3.0.1)\n",
      "Downloading PyMySQL-1.1.1-py3-none-any.whl (44 kB)\n",
      "   ---------------------------------------- 0.0/45.0 kB ? eta -:--:--\n",
      "   --------- ------------------------------ 10.2/45.0 kB ? eta -:--:--\n",
      "   --------------------------- ------------ 30.7/45.0 kB 435.7 kB/s eta 0:00:01\n",
      "   ---------------------------------------- 45.0/45.0 kB 445.3 kB/s eta 0:00:00\n",
      "Installing collected packages: pymysql\n",
      "Successfully installed pymysql-1.1.1\n"
     ]
    }
   ],
   "source": [
    "!pip install pymysql sqlalchemy"
   ]
  },
  {
   "cell_type": "code",
   "execution_count": 9,
   "id": "a44a15cd-e729-4b33-ae0c-6a94a7e8e6f5",
   "metadata": {},
   "outputs": [],
   "source": [
    "import os\n",
    "from sqlalchemy import create_engine, text\n",
    "import pandas as pd\n",
    "from sqlalchemy.types import Integer, Float, Boolean, DateTime, Text"
   ]
  },
  {
   "cell_type": "code",
   "execution_count": 10,
   "id": "a6dd61fc-43fb-4820-9661-7057e1c2e58f",
   "metadata": {},
   "outputs": [],
   "source": [
    "USER     = 'root'\n",
    "PASSWORD = 'navya'\n",
    "HOST     = 'localhost'\n",
    "DB       = 'ecommerce'"
   ]
  },
  {
   "cell_type": "code",
   "execution_count": 11,
   "id": "be63bbb7-764d-46b8-b4fb-5503ad42301e",
   "metadata": {},
   "outputs": [],
   "source": [
    "engine = create_engine(\n",
    "    f\"mysql+pymysql://{USER}:{PASSWORD}@{HOST}/{DB}\"\n",
    "    \"?charset=utf8mb4\",        \n",
    "    pool_pre_ping=True         \n",
    ")"
   ]
  },
  {
   "cell_type": "code",
   "execution_count": 12,
   "id": "acc071a9-df19-4561-8f76-a758f2452322",
   "metadata": {},
   "outputs": [
    {
     "name": "stdout",
     "output_type": "stream",
     "text": [
      "1\n"
     ]
    }
   ],
   "source": [
    "with engine.connect() as conn:\n",
    "    result = conn.execute(text(\"SELECT 1\"))\n",
    "    print(result.scalar())"
   ]
  },
  {
   "cell_type": "code",
   "execution_count": 13,
   "id": "0c906ff2-a33d-415e-ba40-d2efcb27c2d3",
   "metadata": {},
   "outputs": [],
   "source": [
    "def sql_dtype_mapping(series: pd.Series):\n",
    "    if pd.api.types.is_integer_dtype(series):\n",
    "        return Integer()\n",
    "    elif pd.api.types.is_float_dtype(series):\n",
    "        return Float()\n",
    "    elif pd.api.types.is_bool_dtype(series):\n",
    "        return Boolean()\n",
    "    elif pd.api.types.is_datetime64_any_dtype(series):\n",
    "        return DateTime()\n",
    "    else:\n",
    "        return Text()\n"
   ]
  },
  {
   "cell_type": "code",
   "execution_count": 14,
   "id": "5ed43002-3b5e-4aec-bfd1-d30746a74caa",
   "metadata": {},
   "outputs": [],
   "source": [
    "csv_files = [\n",
    "    ('customers.csv', 'customers'),\n",
    "    ('orders.csv', 'orders'),\n",
    "    ('sellers.csv', 'sellers'),\n",
    "    ('products.csv', 'products'),\n",
    "    ('geolocation.csv', 'geolocation'),\n",
    "    ('payments.csv', 'payments'),\n",
    "    ('order_items.csv', 'order_items') \n",
    "]"
   ]
  },
  {
   "cell_type": "code",
   "execution_count": 17,
   "id": "ba4b9069-d9a7-4303-87b8-9bf30da6d61a",
   "metadata": {},
   "outputs": [],
   "source": [
    "folder_path = './dataset/'"
   ]
  },
  {
   "cell_type": "code",
   "execution_count": 18,
   "id": "dbc9a45b-2a17-4089-a1ec-744801fa42db",
   "metadata": {},
   "outputs": [
    {
     "name": "stdout",
     "output_type": "stream",
     "text": [
      "Loading customers.csv → customers…\n",
      " → done (99441 rows)\n",
      "\n",
      "Loading orders.csv → orders…\n",
      " → done (99441 rows)\n",
      "\n",
      "Loading sellers.csv → sellers…\n",
      " → done (3095 rows)\n",
      "\n",
      "Loading products.csv → products…\n",
      " → done (32951 rows)\n",
      "\n",
      "Loading geolocation.csv → geolocation…\n",
      " → done (1000163 rows)\n",
      "\n",
      "Loading payments.csv → payments…\n",
      " → done (103886 rows)\n",
      "\n",
      "Loading order_items.csv → order_items…\n",
      " → done (112650 rows)\n",
      "\n"
     ]
    }
   ],
   "source": [
    "for csv_name, table_name in csv_files:\n",
    "    file_path = os.path.join(folder_path, csv_name)\n",
    "    print(f\"Loading {csv_name} → {table_name}…\")\n",
    "\n",
    "    df = pd.read_csv(file_path, parse_dates=True)\n",
    "    df.columns = [c.strip().replace(' ', '_').replace('-', '_').replace('.', '_')\n",
    "                  for c in df.columns]\n",
    "\n",
    "    # build a dtype dict for to_sql\n",
    "    dtype_dict = {col: sql_dtype_mapping(df[col]) for col in df.columns}\n",
    "\n",
    "    # this will CREATE TABLE if needed, then INSERT in chunks\n",
    "    df.to_sql(\n",
    "        name=table_name,\n",
    "        con=engine,\n",
    "        if_exists='replace',   # or 'append'\n",
    "        index=False,\n",
    "        dtype=dtype_dict,\n",
    "        chunksize=1000         # adjust up/down based on memory\n",
    "    )\n",
    "    print(f\" → done ({len(df)} rows)\\n\")"
   ]
  },
  {
   "cell_type": "code",
   "execution_count": null,
   "id": "25f45639-89ad-4d54-a4d4-d416132566bb",
   "metadata": {},
   "outputs": [],
   "source": []
  },
  {
   "cell_type": "code",
   "execution_count": null,
   "id": "bb294ae4-9b28-46e4-bce0-82485fa09526",
   "metadata": {},
   "outputs": [],
   "source": []
  },
  {
   "cell_type": "code",
   "execution_count": null,
   "id": "77ca8d67-3ab7-47ae-9766-d978fdd3f033",
   "metadata": {},
   "outputs": [],
   "source": []
  }
 ],
 "metadata": {
  "kernelspec": {
   "display_name": "Python 3 (ipykernel)",
   "language": "python",
   "name": "python3"
  },
  "language_info": {
   "codemirror_mode": {
    "name": "ipython",
    "version": 3
   },
   "file_extension": ".py",
   "mimetype": "text/x-python",
   "name": "python",
   "nbconvert_exporter": "python",
   "pygments_lexer": "ipython3",
   "version": "3.11.7"
  }
 },
 "nbformat": 4,
 "nbformat_minor": 5
}
